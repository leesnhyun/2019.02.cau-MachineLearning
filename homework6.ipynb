{
 "cells": [
  {
   "cell_type": "raw",
   "metadata": {},
   "source": [
    "\\title{homework 06}\n",
    "\\author{Hong Seonghyeon}\n",
    "\\date{2019.11.07}\n",
    "\\maketitle"
   ]
  },
  {
   "cell_type": "markdown",
   "metadata": {},
   "source": [
    "## Binary Classifcation based on 3 layers neural network\n",
    "\n",
    "First layer\n",
    "* $Z^1 = W^1X + b^1 : X$ denotes the input data\n",
    "* $A^1 = g^1(Z^1) : g^1$ is the activation function at the first layer\n",
    "\n",
    "Second layer\n",
    "* $Z^2 = W^2A^1 + b^2$\n",
    "* $A^2 = g^2(Z^2) : g^2$ is the activation function at the second layer\n",
    "\n",
    "Third layer\n",
    "* $Z^3 = W^3A^2 + b^3$\n",
    "* $A^3 = g^3(Z^3) : g^3$ is the activation function at the third (output) layer\n",
    "\n",
    "\n",
    "## Activation Function\n",
    "\n",
    "* Sigmoid : $g(z) = {1 \\over (1 + \\exp^{-z})}$\n",
    "\n",
    "* tanh : $g(z) = {\\exp^z - \\exp^{-z} \\over \\exp^z + \\exp^{-z}}$\n",
    "\n",
    "* ReLU : $g(z) = max(0, z)$\n",
    "\n",
    "* Leaky ReLU : $g(z) = max(\\alpha * z, z)$\n",
    "\n",
    "\n",
    "\n",
    "* $yh_i = \\sigma(Z^3_i)$\n",
    "* $z_i = Z^3_i$\n",
    "\n",
    "## The lossfunction is defined by\n",
    "* $\\mathcal{L} = \\frac{1}{n} \\sum_{i=1}^n f_i(W^1, W^2, W^3, b^1, b^2, b^3) + (lamda / 2) * ((W^{[1]})^2 + (W^{[2]})^2 + (W^{[3]})^2)$\n",
    "* $f_i(W^1, W^2, W^3, b^1, b^2, b^3) = - y_i \\log yh_i - (1 - y_i) \\log (1 - yh_i)$"
   ]
  },
  {
   "cell_type": "code",
   "execution_count": 2,
   "metadata": {},
   "outputs": [],
   "source": [
    "from matplotlib import pyplot as plt\n",
    "import numpy as np\n",
    "import random\n",
    "import torch\n",
    "from torch.utils.data import Dataset, DataLoader\n",
    "import torchvision.transforms as transforms\n",
    "import torchvision\n",
    "import os"
   ]
  },
  {
   "cell_type": "code",
   "execution_count": 3,
   "metadata": {},
   "outputs": [],
   "source": [
    "transform = transforms.Compose([#transforms.Resize((256,256)),  \n",
    "                                transforms.Grayscale(),\t\t# the code transforms.Graysclae() is for changing the size [3,100,100] to [1, 100, 100] (notice : [channel, height, width] )\n",
    "                                transforms.ToTensor(),])\n",
    "\n",
    "LABEL_IDX = 10000"
   ]
  },
  {
   "cell_type": "markdown",
   "metadata": {},
   "source": [
    "# Get data\n",
    "\n",
    "- The dataset consists of human images and horse images for the training and the validation\n",
    "- The classifier should be trained using the training set\n",
    "- The classifier should be tested using the validation set"
   ]
  },
  {
   "cell_type": "code",
   "execution_count": 4,
   "metadata": {},
   "outputs": [],
   "source": [
    "def get_train_dataset():\n",
    "    #train_data_path = 'relative path of training data set'\n",
    "    train_data_path = './horse-or-human/train'\n",
    "    trainset = torchvision.datasets.ImageFolder(root=train_data_path, transform=transform)\n",
    "    # change the valuse of batch_size, num_workers for your program\n",
    "    # if shuffle=True, the data reshuffled at every epoch \n",
    "    trainloader = torch.utils.data.DataLoader(trainset, batch_size=1, shuffle=False, num_workers=1)\n",
    "    \n",
    "    TRAIN_SIZE = len(trainloader)\n",
    "    \n",
    "    train_data = np.random.randn(LABEL_IDX + 1, TRAIN_SIZE)\n",
    "    \n",
    "    # load training images of the batch size for every iteration\n",
    "    for i, data in enumerate(trainloader):\n",
    "\n",
    "        # inputs is the image\n",
    "        # labels is the class of the image\n",
    "        inputs, labels = data\n",
    "        \n",
    "        train_data[:LABEL_IDX, i] = inputs.numpy().flatten()[:]\n",
    "        train_data[LABEL_IDX, i] = labels[0]\n",
    "    \n",
    "    return TRAIN_SIZE, train_data\n",
    "        \n",
    "def get_validation_dataset():\n",
    "    validation_data_path = './horse-or-human/validation'\n",
    "    valset = torchvision.datasets.ImageFolder(root=validation_data_path, transform=transform)\n",
    "    # change the valuse of batch_size, num_workers for your program\n",
    "    valloader = torch.utils.data.DataLoader(valset, batch_size=1, shuffle=False, num_workers=1) \n",
    "    \n",
    "    VALIDATION_SIZE = len(valset)\n",
    "    \n",
    "    validation_data = np.random.randn(LABEL_IDX + 1, VALIDATION_SIZE)\n",
    "        \n",
    "    # load validation images of the batch size for every iteration\n",
    "    for i, data in enumerate(valloader):\n",
    "        \n",
    "        # inputs is the image\n",
    "        # labels is the class of the image\n",
    "        inputs, labels = data\n",
    "                \n",
    "        validation_data[:LABEL_IDX, i] = inputs.numpy().flatten()[:]\n",
    "        validation_data[LABEL_IDX, i] = labels[0]\n",
    "    \n",
    "    return VALIDATION_SIZE, validation_data"
   ]
  },
  {
   "cell_type": "code",
   "execution_count": 5,
   "metadata": {},
   "outputs": [],
   "source": [
    "# get dataset\n",
    "TRAIN_SIZE, training_data = get_train_dataset()\n",
    "VALIDATION_SIZE, validation_data = get_validation_dataset()\n",
    "\n",
    "\n",
    "# 사용할 상수들 정의\n",
    "m = TRAIN_SIZE\n",
    "TOLERATION = 10e-6\n",
    "#n1, n2 = 500, 100\n",
    "#n1, n2 = 10, 5\n",
    "\n",
    "LEAKY_RELU_RATE = 10e-3"
   ]
  },
  {
   "cell_type": "markdown",
   "metadata": {},
   "source": [
    "# Functions"
   ]
  },
  {
   "cell_type": "code",
   "execution_count": 6,
   "metadata": {},
   "outputs": [],
   "source": [
    "def sigmoid(z):\n",
    "    return 1 / (1 + np.exp(-z))\n",
    "\n",
    "def d_sigmoid(z):\n",
    "    return sigmoid(z) * (1 - sigmoid(z))\n",
    "\n",
    "def tanh(z):\n",
    "    return np.tanh(z)\n",
    "\n",
    "def d_tanh(z):\n",
    "    return (1 - (tanh(z) ** 2))\n",
    "\n",
    "def relu(z):\n",
    "    return np.maximum(0, z)\n",
    "\n",
    "def d_relu(z):\n",
    "    return np.where(z <= 0, 0, 1)\n",
    "\n",
    "def leaky_relu(z):\n",
    "    return np.maximum(LEAKY_RELU_RATE * z, z)\n",
    "\n",
    "def d_leaky_relu(z):\n",
    "    return np.where(z <= 0, LEAKY_RELU_RATE, 1)\n",
    "\n",
    "def get_hx(w1, w2, w3, b1, b2, b3, data, type):\n",
    "    A1 = sigmoid(np.dot(w1, data[:LABEL_IDX, :]) + b1)\n",
    "    A2 = sigmoid(np.dot(w2, A1) + b2)\n",
    "    \n",
    "    hx = sigmoid(np.dot(w3, A2) + b3)\n",
    "    return hx\n",
    "\n",
    "def cross_entropy(w1, w2, w3, b1, b2, b3, data, size, type):\n",
    "    hx = get_hx(w1, w2, w3, b1, b2, b3, data, type)\n",
    "    \n",
    "    d = np.nan_to_num(data[LABEL_IDX, :] * np.log(hx)) + np.nan_to_num((1 - data[LABEL_IDX, :]) * np.log(1 - hx))\n",
    "\n",
    "    return -d\n",
    "\n",
    "def loss(w1, w2, w3, b1, b2, b3, data, size, type, lamda_rate):\n",
    "    d = cross_entropy(w1, w2, w3, b1, b2, b3, data, size, type)\n",
    "\n",
    "    w_sum = (np.sum(np.square(w1)) + np.sum(np.square(w2)) + np.sum(np.square(w3))) * (lamda_rate / 2)\n",
    "    \n",
    "    return (np.sum(d) + w_sum) / size\n",
    "\n",
    "def accuracy(w1, w2, w3, b1, b2, b3, data, size, type):\n",
    "    hx = get_hx(w1, w2, w3, b1, b2, b3, data, type)\n",
    "    hit = 0\n",
    "    \n",
    "    for i in range(size):\n",
    "        if hx[0][i] > 0.5:\n",
    "            if data[LABEL_IDX, i] == 1:\n",
    "                hit += 1\n",
    "        else:\n",
    "            if data[LABEL_IDX, i] == 0:\n",
    "                hit += 1\n",
    "                \n",
    "    return hit / size"
   ]
  },
  {
   "cell_type": "markdown",
   "metadata": {},
   "source": [
    "# main logic"
   ]
  },
  {
   "cell_type": "code",
   "execution_count": 7,
   "metadata": {},
   "outputs": [],
   "source": [
    "def gradient_descent(n1, n2, lamda_rate, LEARNING_RATE):\n",
    "    #LEARNING_RATE = 0.002\n",
    "    #LEARNING_RATE = 0.01\n",
    "    type = 1\n",
    "    w1 = np.random.randn(n1, LABEL_IDX) * np.sqrt(2 / (m + n1))\n",
    "    b1 = np.random.randn(n1, 1) * 0.01\n",
    "    w2 = np.random.randn(n2, n1) * np.sqrt(2 / (n1 + n2))\n",
    "    b2 = np.random.randn(n2, 1) * 0.01\n",
    "    w3 = np.random.randn(1, n2) * np.sqrt(2 / (n2 + 1))\n",
    "    b3 = np.random.randn(1, 1) * 0.01\n",
    "    \n",
    "    training_loss = []\n",
    "    training_accuracy = []\n",
    "    validation_loss = []\n",
    "    validation_accuracy = []\n",
    "    \n",
    "    now_loss = 0\n",
    "    before_loss = 0\n",
    "    \n",
    "    label = training_data[LABEL_IDX, :].reshape(1, m)\n",
    "    \n",
    "    while True:\n",
    "        z1 = np.dot(w1, training_data[:LABEL_IDX, :]) + b1\n",
    "        a1 = sigmoid(z1)\n",
    "        z2 = np.dot(w2, a1) + b2\n",
    "        a2 = sigmoid(z2)\n",
    "        z3 = np.dot(w3, a2) + b3\n",
    "        a3 = sigmoid(z3)\n",
    "        \n",
    "        dz3 = a3 - label\n",
    "        dw3 = (np.dot(dz3, a2.T)) / m\n",
    "        db3 = np.sum(dz3, axis = 1, keepdims = True) / m\n",
    "        \n",
    "        dz2 = np.dot(w3.T, dz3) * d_sigmoid(z2)\n",
    "        dw2 = (np.dot(dz2, a1.T)) / m\n",
    "        db2 = np.sum(dz2, axis = 1, keepdims = True) / m\n",
    "        \n",
    "        dz1 = np.dot(w2.T, dz2) * d_sigmoid(z1)\n",
    "        dw1 = (np.dot(dz1, training_data[:LABEL_IDX, :].T)) / m\n",
    "        db1 = np.sum(dz1, axis = 1, keepdims = True) / m\n",
    "        \n",
    "        # back propagation\n",
    "        \n",
    "        w3 = (1 - ((lamda_rate * LEARNING_RATE) / m)) * w3 - LEARNING_RATE * dw3\n",
    "        b3 = b3 - LEARNING_RATE * db3\n",
    "        \n",
    "        w2 = (1 - ((lamda_rate * LEARNING_RATE) / m)) * w2 - LEARNING_RATE * dw2\n",
    "        b2 = b2 - LEARNING_RATE * db2\n",
    "        \n",
    "        w1 = (1 - ((lamda_rate * LEARNING_RATE) / m)) * w1 - LEARNING_RATE * dw1\n",
    "        b1 = b1 - LEARNING_RATE * db1\n",
    "\n",
    "        now_loss = loss(w1, w2, w3, b1, b2, b3, training_data, TRAIN_SIZE, type, lamda_rate)\n",
    "\n",
    "        training_loss.append(now_loss)\n",
    "        training_accuracy.append(accuracy(w1, w2, w3, b1, b2, b3, training_data, TRAIN_SIZE, type))\n",
    "        validation_loss.append(loss(w1, w2, w3, b1, b2, b3, validation_data, VALIDATION_SIZE, type, lamda_rate))\n",
    "        validation_accuracy.append(accuracy(w1, w2, w3, b1, b2, b3, validation_data, VALIDATION_SIZE, type))\n",
    "\n",
    "        if abs(now_loss - before_loss) < TOLERATION:\n",
    "            break\n",
    "        before_loss = now_loss\n",
    "\n",
    "        #print(now_loss)\n",
    "\n",
    "    #print(training_loss)\n",
    "    #print(training_accuracy)\n",
    "    #print(validation_loss)\n",
    "    #print(training_accuracy[-1])\n",
    "    #print(validation_accuracy)\n",
    "    #print(validation_accuracy[-1])\n",
    "\n",
    "    return training_loss, training_accuracy, validation_loss, validation_accuracy"
   ]
  },
  {
   "cell_type": "markdown",
   "metadata": {},
   "source": [
    "* Apply the gradient descent algorithm\n",
    "\n",
    "* Plot the training loss at every iteration\n",
    "* Plot the testing loss at every iteration\n",
    "* Plot the training accuracy at every iteration\n",
    "* Plot the testing accuracy at every iteration\n",
    "\n",
    "* print validation loss and validation accuracy (when the best validation accuracy is achieved over all the iterations)\n",
    "\n",
    "# setting\n",
    "* Initialize : He\n",
    "* First layer activation function : sigmoid\n",
    "* Second layer activation function : sigmoid\n",
    "* Third layer activation function : sigmoid\n",
    "\n",
    "* n1 = 10, n2 = 5\n",
    "* learning rate = 0.01\n",
    "* lamda_rate = bias(10000), variance(0.01), best(32)"
   ]
  },
  {
   "cell_type": "code",
   "execution_count": 8,
   "metadata": {},
   "outputs": [],
   "source": [
    "n1 = 10\n",
    "n2 = 5"
   ]
  },
  {
   "cell_type": "code",
   "execution_count": 9,
   "metadata": {},
   "outputs": [
    {
     "name": "stdout",
     "output_type": "stream",
     "text": [
      "Bias (large lamda)\n"
     ]
    },
    {
     "data": {
      "image/png": "[encoded data removed]",
      "text/plain": [
       "<Figure size 432x288 with 1 Axes>"
      ]
     },
     "metadata": {
      "needs_background": "light"
     },
     "output_type": "display_data"
    },
    {
     "data": {
      "image/png": "[encoded data removed]",
      "text/plain": [
       "<Figure size 432x288 with 1 Axes>"
      ]
     },
     "metadata": {
      "needs_background": "light"
     },
     "output_type": "display_data"
    },
    {
     "name": "stdout",
     "output_type": "stream",
     "text": [
      "the table for the final accuracy and loss with training and validation datasets\n",
      "\n",
      "\n",
      "dataset                         loss                              accuracy\n",
      "training                    0.6930135286                    0.5131450828\n",
      "validation                  0.6933592637                    0.5000000000\n"
     ]
    }
   ],
   "source": [
    "# bias(large lamda)\n",
    "lamda_rate = 10000\n",
    "LEARNING_RATE = 0.01\n",
    "\n",
    "print('Bias (large lamda)')\n",
    "training_loss, training_accuracy, validation_loss, validation_accuracy = gradient_descent(n1, n2, lamda_rate, LEARNING_RATE)\n",
    "iteration = range(len(training_loss))\n",
    "\n",
    "plt.title('loss')\n",
    "plt.plot(iteration, training_loss, color = 'blue', label = 'training')\n",
    "plt.plot(iteration, validation_loss, color = 'red', label = 'validation')\n",
    "plt.legend()\n",
    "plt.show()\n",
    "\n",
    "plt.title('accuracy')\n",
    "plt.plot(iteration, training_accuracy, color = 'blue', label = 'training')\n",
    "plt.plot(iteration, validation_accuracy, color = 'red', label = 'validation')\n",
    "plt.legend()\n",
    "plt.show()\n",
    "\n",
    "print('the table for the final accuracy and loss with training and validation datasets\\n\\n')\n",
    "print('dataset' + ' ' * 25 + 'loss' + ' ' * 30 + 'accuracy')\n",
    "print('training' + ' ' * 20 + '%.10f' % training_loss[-1] + ' ' * 20 + '%.10f' % training_accuracy[-1])\n",
    "print('validation' + ' ' * 18 + '%.10f' % validation_loss[-1] + ' ' * 20 + '%.10f' % validation_accuracy[-1])"
   ]
  },
  {
   "cell_type": "code",
   "execution_count": 10,
   "metadata": {},
   "outputs": [
    {
     "name": "stdout",
     "output_type": "stream",
     "text": [
      "Variance (small lamda)\n"
     ]
    },
    {
     "data": {
      "image/png": "[encoded data removed]",
      "text/plain": [
       "<Figure size 432x288 with 1 Axes>"
      ]
     },
     "metadata": {
      "needs_background": "light"
     },
     "output_type": "display_data"
    },
    {
     "data": {
      "image/png": "[encoded data removed]",
      "text/plain": [
       "<Figure size 432x288 with 1 Axes>"
      ]
     },
     "metadata": {
      "needs_background": "light"
     },
     "output_type": "display_data"
    },
    {
     "name": "stdout",
     "output_type": "stream",
     "text": [
      "the table for the final accuracy and loss with training and validation datasets\n",
      "\n",
      "\n",
      "dataset                         loss                              accuracy\n",
      "training                    0.0467287675                    0.9980525803\n",
      "validation                  0.6884280313                    0.7656250000\n"
     ]
    }
   ],
   "source": [
    "# Variance(small lamda)\n",
    "lamda_rate = 0.01\n",
    "LEARNING_RATE = 0.01\n",
    "\n",
    "print('Variance (small lamda)')\n",
    "training_loss, training_accuracy, validation_loss, validation_accuracy = gradient_descent(n1, n2, lamda_rate, LEARNING_RATE)\n",
    "iteration = range(len(training_loss))\n",
    "\n",
    "plt.title('loss')\n",
    "plt.plot(iteration, training_loss, color = 'blue', label = 'training')\n",
    "plt.plot(iteration, validation_loss, color = 'red', label = 'validation')\n",
    "plt.legend()\n",
    "plt.show()\n",
    "\n",
    "plt.title('accuracy')\n",
    "plt.plot(iteration, training_accuracy, color = 'blue', label = 'training')\n",
    "plt.plot(iteration, validation_accuracy, color = 'red', label = 'validation')\n",
    "plt.legend()\n",
    "plt.show()\n",
    "\n",
    "print('the table for the final accuracy and loss with training and validation datasets\\n\\n')\n",
    "print('dataset' + ' ' * 25 + 'loss' + ' ' * 30 + 'accuracy')\n",
    "print('training' + ' ' * 20 + '%.10f' % training_loss[-1] + ' ' * 20 + '%.10f' % training_accuracy[-1])\n",
    "print('validation' + ' ' * 18 + '%.10f' % validation_loss[-1] + ' ' * 20 + '%.10f' % validation_accuracy[-1])"
   ]
  },
  {
   "cell_type": "code",
   "execution_count": 19,
   "metadata": {},
   "outputs": [
    {
     "name": "stdout",
     "output_type": "stream",
     "text": [
      "Best (appropriate lamda)\n"
     ]
    },
    {
     "data": {
      "image/png": "[encoded data removed]",
      "text/plain": [
       "<Figure size 432x288 with 1 Axes>"
      ]
     },
     "metadata": {
      "needs_background": "light"
     },
     "output_type": "display_data"
    },
    {
     "data": {
      "image/png": "[encoded data removed]",
      "text/plain": [
       "<Figure size 432x288 with 1 Axes>"
      ]
     },
     "metadata": {
      "needs_background": "light"
     },
     "output_type": "display_data"
    },
    {
     "name": "stdout",
     "output_type": "stream",
     "text": [
      "the table for the final accuracy and loss with training and validation datasets\n",
      "\n",
      "\n",
      "dataset                         loss                              accuracy\n",
      "training                    0.7010858184                    0.7507302824\n",
      "validation                  0.8078738854                    0.8828125000\n"
     ]
    }
   ],
   "source": [
    "# Best(appropriate lamda)\n",
    "lamda_rate = 32\n",
    "LEARNING_RATE = 0.01\n",
    "\n",
    "print('Best (appropriate lamda)')\n",
    "training_loss, training_accuracy, validation_loss, validation_accuracy = gradient_descent(n1, n2, lamda_rate, LEARNING_RATE)\n",
    "iteration = range(len(training_loss))\n",
    "\n",
    "plt.title('loss')\n",
    "plt.plot(iteration, training_loss, color = 'blue', label = 'training')\n",
    "plt.plot(iteration, validation_loss, color = 'red', label = 'validation')\n",
    "plt.legend()\n",
    "plt.show()\n",
    "\n",
    "plt.title('accuracy')\n",
    "plt.plot(iteration, training_accuracy, color = 'blue', label = 'training')\n",
    "plt.plot(iteration, validation_accuracy, color = 'red', label = 'validation')\n",
    "plt.legend()\n",
    "plt.show()\n",
    "\n",
    "print('the table for the final accuracy and loss with training and validation datasets\\n\\n')\n",
    "print('dataset' + ' ' * 25 + 'loss' + ' ' * 30 + 'accuracy')\n",
    "print('training' + ' ' * 20 + '%.10f' % training_loss[-1] + ' ' * 20 + '%.10f' % training_accuracy[-1])\n",
    "print('validation' + ' ' * 18 + '%.10f' % validation_loss[-1] + ' ' * 20 + '%.10f' % validation_accuracy[-1])"
   ]
  }
 ],
 "metadata": {
  "kernelspec": {
   "display_name": "Python 3",
   "language": "python",
   "name": "python3"
  },
  "language_info": {
   "codemirror_mode": {
    "name": "ipython",
    "version": 3
   },
   "file_extension": ".py",
   "mimetype": "text/x-python",
   "name": "python",
   "nbconvert_exporter": "python",
   "pygments_lexer": "ipython3",
   "version": "3.7.3"
  }
 },
 "nbformat": 4,
 "nbformat_minor": 2
}
