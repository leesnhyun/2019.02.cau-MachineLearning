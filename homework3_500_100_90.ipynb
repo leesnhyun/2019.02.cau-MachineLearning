{
 "cells": [
  {
   "cell_type": "raw",
   "metadata": {},
   "source": [
    "\\title{homework 3}\n",
    "\\author{Hong Seonghyeon}\n",
    "\\date{2019.10.10}\n",
    "\\maketitle"
   ]
  },
  {
   "cell_type": "markdown",
   "metadata": {},
   "source": [
    "Binary Classifcation based on Logistic Regression\n",
    "\n",
    "* $(x_i, y_i)$ denotes a pair of a training example and $i = 1, 2, \\cdots, n$\n",
    "* $$p_i = \\sigma(u^Tx_i + a)$$\n",
    "* $$q_i = \\sigma(v^Tp_i + b)$$\n",
    "* $$yh_i = \\sigma(w^Tq_i + c)$$\n",
    "* $$z_i = w^T x_i + b$$\n",
    "* $$\\sigma(z) = \\frac{1}{1 + \\exp(-z)}$$\n",
    "* The lossfunction is defined by\n",
    "$$\\mathcal{L} = \\frac{1}{n} \\sum_{i=1}^n f_i(u, v, w, a, b, c)$$\n",
    "$$f_i(u, v, w, a, b, c) = - y_i \\log yh_i - (1 - y_i) \\log (1 - yh_i)$$"
   ]
  },
  {
   "cell_type": "code",
   "execution_count": 1,
   "metadata": {},
   "outputs": [],
   "source": [
    "from matplotlib import pyplot as plt\n",
    "import numpy as np\n",
    "import random\n",
    "import torch\n",
    "from torch.utils.data import Dataset, DataLoader\n",
    "import torchvision.transforms as transforms\n",
    "import torchvision\n",
    "import os"
   ]
  },
  {
   "cell_type": "code",
   "execution_count": 2,
   "metadata": {},
   "outputs": [],
   "source": [
    "transform = transforms.Compose([#transforms.Resize((256,256)),  \n",
    "                                transforms.Grayscale(),\t\t# the code transforms.Graysclae() is for changing the size [3,100,100] to [1, 100, 100] (notice : [channel, height, width] )\n",
    "                                transforms.ToTensor(),])\n",
    "\n",
    "LABEL_IDX = 10000"
   ]
  },
  {
   "cell_type": "markdown",
   "metadata": {},
   "source": [
    "# Get data\n",
    "\n",
    "- The dataset consists of human images and horse images for the training and the validation\n",
    "- The classifier should be trained using the training set\n",
    "- The classifier should be tested using the validation set"
   ]
  },
  {
   "cell_type": "code",
   "execution_count": 3,
   "metadata": {},
   "outputs": [],
   "source": [
    "def get_train_dataset():\n",
    "    #train_data_path = 'relative path of training data set'\n",
    "    train_data_path = './horse-or-human/train'\n",
    "    trainset = torchvision.datasets.ImageFolder(root=train_data_path, transform=transform)\n",
    "    # change the valuse of batch_size, num_workers for your program\n",
    "    # if shuffle=True, the data reshuffled at every epoch \n",
    "    trainloader = torch.utils.data.DataLoader(trainset, batch_size=1, shuffle=False, num_workers=1)\n",
    "    \n",
    "    TRAIN_SIZE = len(trainloader)\n",
    "    \n",
    "    train_data = np.random.randn(LABEL_IDX + 1, TRAIN_SIZE)\n",
    "    \n",
    "    # load training images of the batch size for every iteration\n",
    "    for i, data in enumerate(trainloader):\n",
    "\n",
    "        # inputs is the image\n",
    "        # labels is the class of the image\n",
    "        inputs, labels = data\n",
    "        \n",
    "        train_data[:LABEL_IDX, i] = inputs.numpy().flatten()[:]\n",
    "        train_data[LABEL_IDX, i] = labels[0]\n",
    "    \n",
    "    return TRAIN_SIZE, train_data\n",
    "        \n",
    "def get_validation_dataset():\n",
    "    validation_data_path = './horse-or-human/validation'\n",
    "    valset = torchvision.datasets.ImageFolder(root=validation_data_path, transform=transform)\n",
    "    # change the valuse of batch_size, num_workers for your program\n",
    "    valloader = torch.utils.data.DataLoader(valset, batch_size=1, shuffle=False, num_workers=1) \n",
    "    \n",
    "    VALIDATION_SIZE = len(valset)\n",
    "    \n",
    "    validation_data = np.random.randn(LABEL_IDX + 1, VALIDATION_SIZE)\n",
    "        \n",
    "    # load validation images of the batch size for every iteration\n",
    "    for i, data in enumerate(valloader):\n",
    "        \n",
    "        # inputs is the image\n",
    "        # labels is the class of the image\n",
    "        inputs, labels = data\n",
    "                \n",
    "        validation_data[:LABEL_IDX, i] = inputs.numpy().flatten()[:]\n",
    "        validation_data[LABEL_IDX, i] = labels[0]\n",
    "    \n",
    "    return VALIDATION_SIZE, validation_data"
   ]
  },
  {
   "cell_type": "code",
   "execution_count": 4,
   "metadata": {},
   "outputs": [],
   "source": [
    "# get dataset\n",
    "TRAIN_SIZE, training_data = get_train_dataset()\n",
    "VALIDATION_SIZE, validation_data = get_validation_dataset()"
   ]
  },
  {
   "cell_type": "markdown",
   "metadata": {},
   "source": [
    "# main logic"
   ]
  },
  {
   "cell_type": "code",
   "execution_count": 5,
   "metadata": {},
   "outputs": [],
   "source": [
    "def sigmoid(z):\n",
    "    return 1 / (1 + np.exp(-z))\n",
    "\n",
    "def d_sigmoid(z):\n",
    "    return sigmoid(z) * (1 - sigmoid(z))\n",
    "\n",
    "def get_hx(w1, w2, w3, b1, b2, b3, data):\n",
    "    p = sigmoid(np.dot(w1, data[:LABEL_IDX, :]) + b1)\n",
    "    q = sigmoid(np.dot(w2, p) + b2)\n",
    "    hx = sigmoid(np.dot(w3, q) + b3)\n",
    "    return hx\n",
    "\n",
    "def cross_entropy(w1, w2, w3, b1, b2, b3, data, size):\n",
    "    hx = get_hx(w1, w2, w3, b1, b2, b3, data)\n",
    "    d = np.nan_to_num(data[LABEL_IDX, :] * np.log(hx)) + np.nan_to_num((1 - data[LABEL_IDX, :]) * np.log(1 - hx))\n",
    "    \n",
    "    return -d\n",
    "\n",
    "def loss(w1, w2, w3, b1, b2, b3, data, size):\n",
    "    d = cross_entropy(w1, w2, w3, b1, b2, b3, data, size)\n",
    "    \n",
    "    return np.sum(d) / size\n",
    "\n",
    "def accuracy(w1, w2, w3, b1, b2, b3, data, size):\n",
    "    hx = get_hx(w1, w2, w3, b1, b2, b3, data)\n",
    "    hit = 0\n",
    "    \n",
    "    for i in range(size):\n",
    "        if hx[0][i] > 0.5:\n",
    "            if data[LABEL_IDX, i] == 1:\n",
    "                hit += 1\n",
    "        else:\n",
    "            if data[LABEL_IDX, i] == 0:\n",
    "                hit += 1\n",
    "                \n",
    "    return hit / size\n",
    "\n",
    "def gradient_descent():\n",
    "    LEARNING_RATE = 0.05\n",
    "    TOLERATION = 10e-6\n",
    "    m = TRAIN_SIZE\n",
    "    n1, n2 = 500, 100\n",
    "    #w1 = np.zeros((n1, LABEL_IDX))\n",
    "    #b1 = np.zeros((n1, 1))\n",
    "    #w2 = np.zeros((n2, n1))\n",
    "    #b2 = np.zeros((n2, 1))\n",
    "    #w3 = np.zeros((1, n2))\n",
    "    #b3 = np.zeros((1, 1))\n",
    "    \n",
    "    w1 = np.random.rand(n1, LABEL_IDX)\n",
    "    b1 = np.random.rand(n1, 1)\n",
    "    w2 = np.random.rand(n2, n1)\n",
    "    b2 = np.random.rand(n2, 1)\n",
    "    w3 = np.random.rand(1, n2)\n",
    "    b3 = np.random.rand(1, 1)\n",
    "    \n",
    "    for i in range(len(w1)):\n",
    "        for j in range(len(w1[0])):\n",
    "            if rand() >= 0.5:\n",
    "                w1[i][j] *= -1\n",
    "    for i in range(len(w2)):\n",
    "        for j in range(len(w2[0])):\n",
    "            if rand() >= 0.5:\n",
    "                w2[i][j] *= -1\n",
    "    \n",
    "    training_loss = []\n",
    "    training_accuracy = []\n",
    "    validation_loss = []\n",
    "    validation_accuracy = []\n",
    "    \n",
    "    now_loss = 0\n",
    "    before_loss = 0\n",
    "    \n",
    "    label = training_data[LABEL_IDX, :].reshape(1, m)\n",
    "    \n",
    "    while True:\n",
    "        z1 = np.dot(w1, training_data[:LABEL_IDX, :]) + b1\n",
    "        a1 = sigmoid(z1)\n",
    "        z2 = np.dot(w2, a1) + b2\n",
    "        a2 = sigmoid(z2)\n",
    "        z3 = np.dot(w3, a2) + b3\n",
    "        a3 = sigmoid(z3)\n",
    "        \n",
    "        dz3 = a3 - label\n",
    "        dw3 = np.dot(dz3, a2.T) / m\n",
    "        db3 = np.sum(dz3, axis = 1, keepdims = True) / m\n",
    "        \n",
    "        w3 = w3 - LEARNING_RATE * dw3\n",
    "        b3 = b3 - LEARNING_RATE * db3\n",
    "        \n",
    "        dz2 = np.dot(w3.T, dz3) * d_sigmoid(z2)\n",
    "        dw2 = np.dot(dz2, a1.T) / m\n",
    "        db2 = np.sum(dz2, axis = 1, keepdims = True) / m\n",
    "        \n",
    "        w2 = w2 - LEARNING_RATE * dw2\n",
    "        b2 = b2 - LEARNING_RATE * db2\n",
    "        \n",
    "        dz1 = np.dot(w2.T, dz2) * d_sigmoid(z1)\n",
    "        dw1 = np.dot(dz1, training_data[:LABEL_IDX, :].T) / m\n",
    "        db1 = np.sum(dz1, axis = 1, keepdims = True) / m\n",
    "        \n",
    "        w1 = w1 - LEARNING_RATE * dw1\n",
    "        b1 = b1 - LEARNING_RATE * db1\n",
    "\n",
    "        now_loss = loss(w1, w2, w3, b1, b2, b3, training_data, TRAIN_SIZE)\n",
    "\n",
    "        training_loss.append(now_loss)\n",
    "        training_accuracy.append(accuracy(w1, w2, w3, b1, b2, b3, training_data, TRAIN_SIZE))\n",
    "        validation_loss.append(loss(w1, w2, w3, b1, b2, b3, validation_data, VALIDATION_SIZE))\n",
    "        validation_accuracy.append(accuracy(w1, w2, w3, b1, b2, b3, validation_data, VALIDATION_SIZE))\n",
    "\n",
    "        if abs(now_loss - before_loss) < TOLERATION:\n",
    "            break\n",
    "        before_loss = now_loss\n",
    "\n",
    "        #print(now_loss)\n",
    "\n",
    "    #print(training_loss)\n",
    "    #print(training_accuracy)\n",
    "    #print(validation_loss)\n",
    "    #print(training_accuracy[-1])\n",
    "    #print(validation_accuracy)\n",
    "    #print(validation_accuracy[-1])\n",
    "\n",
    "    return training_loss, training_accuracy, validation_loss, validation_accuracy"
   ]
  },
  {
   "cell_type": "markdown",
   "metadata": {},
   "source": [
    "* Apply the gradient descent algorithm\n",
    "* Plot the training loss at every iteration\n",
    "* Plot the testing loss at every iteration\n",
    "* Plot the training accuracy at every iteration\n",
    "* Plot the testing accuracy at every iteration"
   ]
  },
  {
   "cell_type": "code",
   "execution_count": 6,
   "metadata": {},
   "outputs": [
    {
     "data": {
      "image/png": "[encoded data removed]",
      "text/plain": [
       "<Figure size 432x288 with 1 Axes>"
      ]
     },
     "metadata": {
      "needs_background": "light"
     },
     "output_type": "display_data"
    },
    {
     "data": {
      "image/png": "[encoded data removed]",
      "text/plain": [
       "<Figure size 432x288 with 1 Axes>"
      ]
     },
     "metadata": {
      "needs_background": "light"
     },
     "output_type": "display_data"
    },
    {
     "name": "stdout",
     "output_type": "stream",
     "text": [
      "the table for the final accuracy and loss with training and validation datasets\n",
      "\n",
      "\n",
      "dataset                         loss                              accuracy\n",
      "training                    0.02188763518966468                    1.0\n",
      "validation                  0.32016158973046693                    0.90234375\n"
     ]
    }
   ],
   "source": [
    "training_loss, training_accuracy, validation_loss, validation_accuracy = gradient_descent()\n",
    "iteration = range(len(training_loss))\n",
    "\n",
    "plt.title('loss')\n",
    "plt.plot(iteration, training_loss, color = 'blue', label = 'training')\n",
    "plt.plot(iteration, validation_loss, color = 'red', label = 'validation')\n",
    "plt.legend()\n",
    "plt.show()\n",
    "\n",
    "plt.title('accuracy')\n",
    "plt.plot(iteration, training_accuracy, color = 'blue', label = 'training')\n",
    "plt.plot(iteration, validation_accuracy, color = 'red', label = 'validation')\n",
    "plt.legend()\n",
    "plt.show()\n",
    "\n",
    "print('the table for the final accuracy and loss with training and validation datasets\\n\\n')\n",
    "print('dataset' + ' ' * 25 + 'loss' + ' ' * 30 + 'accuracy')\n",
    "print('training' + ' ' * 20 + str(training_loss[-1]) + ' ' * 20 + str(training_accuracy[-1]))\n",
    "print('validation' + ' ' * 18 + str(validation_loss[-1]) + ' ' * 20 + str(validation_accuracy[-1]))"
   ]
  }
 ],
 "metadata": {
  "kernelspec": {
   "display_name": "Python 3",
   "language": "python",
   "name": "python3"
  },
  "language_info": {
   "codemirror_mode": {
    "name": "ipython",
    "version": 3
   },
   "file_extension": ".py",
   "mimetype": "text/x-python",
   "name": "python",
   "nbconvert_exporter": "python",
   "pygments_lexer": "ipython3",
   "version": "3.7.3"
  }
 },
 "nbformat": 4,
 "nbformat_minor": 2
}
